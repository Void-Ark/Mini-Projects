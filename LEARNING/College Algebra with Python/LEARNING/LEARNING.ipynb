{
 "cells": [
  {
   "cell_type": "markdown",
   "metadata": {},
   "source": [
    "---\n",
    "#### Solving x"
   ]
  },
  {
   "cell_type": "code",
   "execution_count": 11,
   "metadata": {},
   "outputs": [
    {
     "name": "stdout",
     "output_type": "stream",
     "text": [
      "[1, -1/2 - sqrt(3)*I/2, -1/2 + sqrt(3)*I/2]\n",
      "[-1/2 - sqrt(3)*I/2, -1/2 + sqrt(3)*I/2, 1/2 - sqrt(3)*I/2, 1/2 + sqrt(3)*I/2, CRootOf(x**6 - x**4 + 1, 0), CRootOf(x**6 - x**4 + 1, 1), CRootOf(x**6 - x**4 + 1, 2), CRootOf(x**6 - x**4 + 1, 3), CRootOf(x**6 - x**4 + 1, 4), CRootOf(x**6 - x**4 + 1, 5)]\n",
      "(x - 1)*(x**2 + x + 1)\n"
     ]
    }
   ],
   "source": [
    "import sympy\n",
    "from sympy import symbols\n",
    "from sympy.solvers import solve \n",
    "\n",
    "x = symbols('x')\n",
    "eq = x**3 - 1\n",
    "print(solve(eq, x))\n",
    "\n",
    "print(solve(\"x**2 + x**10 +1\", x))\n",
    "\n",
    "print(sympy.factor(eq))\n"
   ]
  },
  {
   "cell_type": "code",
   "execution_count": 13,
   "metadata": {},
   "outputs": [
    {
     "name": "stdout",
     "output_type": "stream",
     "text": [
      "[4]\n"
     ]
    }
   ],
   "source": [
    "example = 3*x - 12\n",
    "equation = sympy.Eq(example,0)\n",
    "solution = solve(equation,x)\n",
    "print(solution)"
   ]
  }
 ],
 "metadata": {
  "kernelspec": {
   "display_name": "base",
   "language": "python",
   "name": "python3"
  },
  "language_info": {
   "codemirror_mode": {
    "name": "ipython",
    "version": 3
   },
   "file_extension": ".py",
   "mimetype": "text/x-python",
   "name": "python",
   "nbconvert_exporter": "python",
   "pygments_lexer": "ipython3",
   "version": "3.9.13"
  },
  "orig_nbformat": 4
 },
 "nbformat": 4,
 "nbformat_minor": 2
}
