{
 "cells": [
  {
   "attachments": {},
   "cell_type": "markdown",
   "metadata": {},
   "source": [
    "Data analysis is a process of inspecting, cleansing, transforming, and modeling data with the goal of discovering useful information, informing conclusions, and supporting decision-making.\n",
    "\n",
    "Auto Managed Closed tools : qlickq, tableau, looker, zoho analytics\n",
    "Programming Languages : Julia, Python, R\n",
    "\n",
    "\n",
    "![Alt text](screenshots/path.jpg)\n",
    "\n",
    "\n",
    "![Alt text](screenshots/path.jpg)\n",
    "\n",
    "\n",
    "Blog : <https://www.freecodecamp.org/news/what-is-data-analysis/>\n"
   ]
  },
  {
   "cell_type": "code",
   "execution_count": null,
   "metadata": {},
   "outputs": [],
   "source": []
  }
 ],
 "metadata": {
  "kernelspec": {
   "display_name": "Python 3",
   "language": "python",
   "name": "python3"
  },
  "language_info": {
   "name": "python",
   "version": "3.10.9 (tags/v3.10.9:1dd9be6, Dec  6 2022, 20:01:21) [MSC v.1934 64 bit (AMD64)]"
  },
  "orig_nbformat": 4,
  "vscode": {
   "interpreter": {
    "hash": "5557eb2532e6707a4b1ee2ffbeb3a2a7613dbaac2094006278037313157f71e1"
   }
  }
 },
 "nbformat": 4,
 "nbformat_minor": 2
}
