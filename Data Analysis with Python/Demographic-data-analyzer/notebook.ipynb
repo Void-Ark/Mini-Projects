{
 "cells": [
  {
   "cell_type": "code",
   "execution_count": 2,
   "metadata": {},
   "outputs": [],
   "source": [
    "import pandas as pd"
   ]
  },
  {
   "cell_type": "code",
   "execution_count": 3,
   "metadata": {},
   "outputs": [],
   "source": [
    "# Read data from file\n",
    "df = pd.read_csv(\"adult.data.csv\")"
   ]
  },
  {
   "cell_type": "code",
   "execution_count": 23,
   "metadata": {},
   "outputs": [
    {
     "data": {
      "text/html": [
       "<div>\n",
       "<style scoped>\n",
       "    .dataframe tbody tr th:only-of-type {\n",
       "        vertical-align: middle;\n",
       "    }\n",
       "\n",
       "    .dataframe tbody tr th {\n",
       "        vertical-align: top;\n",
       "    }\n",
       "\n",
       "    .dataframe thead th {\n",
       "        text-align: right;\n",
       "    }\n",
       "</style>\n",
       "<table border=\"1\" class=\"dataframe\">\n",
       "  <thead>\n",
       "    <tr style=\"text-align: right;\">\n",
       "      <th></th>\n",
       "      <th>age</th>\n",
       "      <th>fnlwgt</th>\n",
       "      <th>education-num</th>\n",
       "      <th>capital-gain</th>\n",
       "      <th>capital-loss</th>\n",
       "      <th>hours-per-week</th>\n",
       "    </tr>\n",
       "  </thead>\n",
       "  <tbody>\n",
       "    <tr>\n",
       "      <th>count</th>\n",
       "      <td>32561.000000</td>\n",
       "      <td>3.256100e+04</td>\n",
       "      <td>32561.000000</td>\n",
       "      <td>32561.000000</td>\n",
       "      <td>32561.000000</td>\n",
       "      <td>32561.000000</td>\n",
       "    </tr>\n",
       "    <tr>\n",
       "      <th>mean</th>\n",
       "      <td>38.581647</td>\n",
       "      <td>1.897784e+05</td>\n",
       "      <td>10.080679</td>\n",
       "      <td>1077.648844</td>\n",
       "      <td>87.303830</td>\n",
       "      <td>40.437456</td>\n",
       "    </tr>\n",
       "    <tr>\n",
       "      <th>std</th>\n",
       "      <td>13.640433</td>\n",
       "      <td>1.055500e+05</td>\n",
       "      <td>2.572720</td>\n",
       "      <td>7385.292085</td>\n",
       "      <td>402.960219</td>\n",
       "      <td>12.347429</td>\n",
       "    </tr>\n",
       "    <tr>\n",
       "      <th>min</th>\n",
       "      <td>17.000000</td>\n",
       "      <td>1.228500e+04</td>\n",
       "      <td>1.000000</td>\n",
       "      <td>0.000000</td>\n",
       "      <td>0.000000</td>\n",
       "      <td>1.000000</td>\n",
       "    </tr>\n",
       "    <tr>\n",
       "      <th>25%</th>\n",
       "      <td>28.000000</td>\n",
       "      <td>1.178270e+05</td>\n",
       "      <td>9.000000</td>\n",
       "      <td>0.000000</td>\n",
       "      <td>0.000000</td>\n",
       "      <td>40.000000</td>\n",
       "    </tr>\n",
       "    <tr>\n",
       "      <th>50%</th>\n",
       "      <td>37.000000</td>\n",
       "      <td>1.783560e+05</td>\n",
       "      <td>10.000000</td>\n",
       "      <td>0.000000</td>\n",
       "      <td>0.000000</td>\n",
       "      <td>40.000000</td>\n",
       "    </tr>\n",
       "    <tr>\n",
       "      <th>75%</th>\n",
       "      <td>48.000000</td>\n",
       "      <td>2.370510e+05</td>\n",
       "      <td>12.000000</td>\n",
       "      <td>0.000000</td>\n",
       "      <td>0.000000</td>\n",
       "      <td>45.000000</td>\n",
       "    </tr>\n",
       "    <tr>\n",
       "      <th>max</th>\n",
       "      <td>90.000000</td>\n",
       "      <td>1.484705e+06</td>\n",
       "      <td>16.000000</td>\n",
       "      <td>99999.000000</td>\n",
       "      <td>4356.000000</td>\n",
       "      <td>99.000000</td>\n",
       "    </tr>\n",
       "  </tbody>\n",
       "</table>\n",
       "</div>"
      ],
      "text/plain": [
       "                age        fnlwgt  education-num  capital-gain  capital-loss  \\\n",
       "count  32561.000000  3.256100e+04   32561.000000  32561.000000  32561.000000   \n",
       "mean      38.581647  1.897784e+05      10.080679   1077.648844     87.303830   \n",
       "std       13.640433  1.055500e+05       2.572720   7385.292085    402.960219   \n",
       "min       17.000000  1.228500e+04       1.000000      0.000000      0.000000   \n",
       "25%       28.000000  1.178270e+05       9.000000      0.000000      0.000000   \n",
       "50%       37.000000  1.783560e+05      10.000000      0.000000      0.000000   \n",
       "75%       48.000000  2.370510e+05      12.000000      0.000000      0.000000   \n",
       "max       90.000000  1.484705e+06      16.000000  99999.000000   4356.000000   \n",
       "\n",
       "       hours-per-week  \n",
       "count    32561.000000  \n",
       "mean        40.437456  \n",
       "std         12.347429  \n",
       "min          1.000000  \n",
       "25%         40.000000  \n",
       "50%         40.000000  \n",
       "75%         45.000000  \n",
       "max         99.000000  "
      ]
     },
     "execution_count": 23,
     "metadata": {},
     "output_type": "execute_result"
    }
   ],
   "source": [
    "df.describe()"
   ]
  },
  {
   "cell_type": "code",
   "execution_count": 24,
   "metadata": {},
   "outputs": [
    {
     "name": "stdout",
     "output_type": "stream",
     "text": [
      "<class 'pandas.core.frame.DataFrame'>\n",
      "RangeIndex: 32561 entries, 0 to 32560\n",
      "Data columns (total 15 columns):\n",
      " #   Column          Non-Null Count  Dtype \n",
      "---  ------          --------------  ----- \n",
      " 0   age             32561 non-null  int64 \n",
      " 1   workclass       32561 non-null  object\n",
      " 2   fnlwgt          32561 non-null  int64 \n",
      " 3   education       32561 non-null  object\n",
      " 4   education-num   32561 non-null  int64 \n",
      " 5   marital-status  32561 non-null  object\n",
      " 6   occupation      32561 non-null  object\n",
      " 7   relationship    32561 non-null  object\n",
      " 8   race            32561 non-null  object\n",
      " 9   sex             32561 non-null  object\n",
      " 10  capital-gain    32561 non-null  int64 \n",
      " 11  capital-loss    32561 non-null  int64 \n",
      " 12  hours-per-week  32561 non-null  int64 \n",
      " 13  native-country  32561 non-null  object\n",
      " 14  salary          32561 non-null  object\n",
      "dtypes: int64(6), object(9)\n",
      "memory usage: 3.7+ MB\n"
     ]
    }
   ],
   "source": [
    "df.info()"
   ]
  },
  {
   "cell_type": "code",
   "execution_count": 25,
   "metadata": {},
   "outputs": [],
   "source": [
    "# How many of each race are represented in this dataset? This should be a Pandas series with race names as the index labels.\n",
    "race_count = len(df.race.unique())"
   ]
  },
  {
   "cell_type": "code",
   "execution_count": 90,
   "metadata": {},
   "outputs": [
    {
     "data": {
      "text/plain": [
       "39.43"
      ]
     },
     "execution_count": 90,
     "metadata": {},
     "output_type": "execute_result"
    }
   ],
   "source": [
    "# What is the average age of men?\n",
    "df[df['sex'] == 'Male'].age.mean().__round__(1)"
   ]
  },
  {
   "cell_type": "code",
   "execution_count": 44,
   "metadata": {},
   "outputs": [
    {
     "name": "stdout",
     "output_type": "stream",
     "text": [
      "16.44605509658794\n"
     ]
    }
   ],
   "source": [
    "# What is the percentage of people who have a Bachelor's degree?\n",
    "percentage_bachelors = (len(df[df[\"education\"] == 'Bachelors']) / len(df)) * 100 \n",
    "print(percentage_bachelors)"
   ]
  },
  {
   "cell_type": "code",
   "execution_count": 42,
   "metadata": {},
   "outputs": [
    {
     "name": "stdout",
     "output_type": "stream",
     "text": [
      "7491\n"
     ]
    }
   ],
   "source": [
    "# with and without `Bachelors`, `Masters`, or `Doctorate`\n",
    "#higher_education = df[df.education == 'Bachelors' | df.education == 'Masters' | df.education == 'Doctorate']\n",
    "higher_education = len(df[(df[\"education\"] == 'Bachelors') | (df[\"education\"] == 'Masters') | (df[\"education\"] == 'Doctorate')])\n",
    "#higher_education.Bachelors\n",
    "print(higher_education)"
   ]
  },
  {
   "cell_type": "code",
   "execution_count": 109,
   "metadata": {},
   "outputs": [
    {
     "name": "stdout",
     "output_type": "stream",
     "text": [
      "25070 32561\n"
     ]
    }
   ],
   "source": [
    "lower_education = len(df) - higher_education \n",
    "print(lower_education, len(df))"
   ]
  },
  {
   "cell_type": "code",
   "execution_count": 114,
   "metadata": {},
   "outputs": [
    {
     "name": "stderr",
     "output_type": "stream",
     "text": [
      "C:\\Users\\arksi\\AppData\\Local\\Temp\\ipykernel_6504\\1405095769.py:17: FutureWarning: Using the level keyword in DataFrame and Series aggregations is deprecated and will be removed in a future version. Use groupby instead. ser.count(level=1) should use ser.groupby(level=1).count().\n",
      "  lower_education_rich = l_edu_sal.count('>50K')/len(l_edu_sal) * 100\n"
     ]
    },
    {
     "ename": "ValueError",
     "evalue": "Series.count level is only valid with a MultiIndex",
     "output_type": "error",
     "traceback": [
      "\u001b[1;31m---------------------------------------------------------------------------\u001b[0m",
      "\u001b[1;31mValueError\u001b[0m                                Traceback (most recent call last)",
      "Cell \u001b[1;32mIn [114], line 17\u001b[0m\n\u001b[0;32m      1\u001b[0m \u001b[39m# percentage with salary >50K\u001b[39;00m\n\u001b[0;32m      2\u001b[0m \u001b[39m#higher_education_rich = (len(df[((df[\"education\"] == 'Bachelors') | (df[\"education\"] == 'Masters') | (df[\"education\"] == 'Doctorate')) & (df[\"salary\"] == '>50K')]) / higher_education * 100).__round__(1)\u001b[39;00m\n\u001b[0;32m      3\u001b[0m \u001b[39m#\u001b[39;00m\n\u001b[1;32m   (...)\u001b[0m\n\u001b[0;32m     10\u001b[0m \u001b[39m#                        ).__round__(1)\u001b[39;00m\n\u001b[0;32m     11\u001b[0m \u001b[39m#\u001b[39;00m\n\u001b[0;32m     12\u001b[0m l_edu_sal \u001b[39m=\u001b[39m df[   (df[\u001b[39m\"\u001b[39m\u001b[39meducation\u001b[39m\u001b[39m\"\u001b[39m] \u001b[39m!=\u001b[39m \u001b[39m'\u001b[39m\u001b[39mBachelors\u001b[39m\u001b[39m'\u001b[39m) \u001b[39m|\u001b[39m \n\u001b[0;32m     13\u001b[0m                 (df[\u001b[39m\"\u001b[39m\u001b[39meducation\u001b[39m\u001b[39m\"\u001b[39m] \u001b[39m!=\u001b[39m \u001b[39m'\u001b[39m\u001b[39mMasters\u001b[39m\u001b[39m'\u001b[39m) \u001b[39m|\u001b[39m \n\u001b[0;32m     14\u001b[0m                 (df[\u001b[39m\"\u001b[39m\u001b[39meducation\u001b[39m\u001b[39m\"\u001b[39m] \u001b[39m!=\u001b[39m \u001b[39m'\u001b[39m\u001b[39mDoctorate\u001b[39m\u001b[39m'\u001b[39m)\n\u001b[0;32m     15\u001b[0m             ][\u001b[39m'\u001b[39m\u001b[39msalary\u001b[39m\u001b[39m'\u001b[39m]\n\u001b[1;32m---> 17\u001b[0m lower_education_rich \u001b[39m=\u001b[39m l_edu_sal\u001b[39m.\u001b[39mcount(\u001b[39m'\u001b[39m\u001b[39m>50K\u001b[39m\u001b[39m'\u001b[39m)\u001b[39m/\u001b[39m\u001b[39mlen\u001b[39m(l_edu_sal) \u001b[39m*\u001b[39m \u001b[39m100\u001b[39m \n\u001b[0;32m     18\u001b[0m \u001b[39m#\u001b[39;00m\n\u001b[0;32m     19\u001b[0m \u001b[39m#lower_education_map = ~df.education.isin(['Bachelors', 'Masters', 'Doctorate'])\u001b[39;00m\n\u001b[0;32m     20\u001b[0m \u001b[39m#lower_education_rich_map = lower_education_map & df.salary.isin(['>50K'])\u001b[39;00m\n\u001b[0;32m     21\u001b[0m \u001b[39m#ler_percent = df[lower_education_rich_map].shape[0] / df[lower_education_map].shape[0] * 100\u001b[39;00m\n\u001b[0;32m     22\u001b[0m \u001b[39m#lower_education_rich = round(ler_percent,1)\u001b[39;00m\n\u001b[0;32m     24\u001b[0m \u001b[39mprint\u001b[39m(higher_education_rich, lower_education_rich)\n",
      "File \u001b[1;32m~\\AppData\\Local\\Packages\\PythonSoftwareFoundation.Python.3.10_qbz5n2kfra8p0\\LocalCache\\local-packages\\Python310\\site-packages\\pandas\\core\\series.py:2132\u001b[0m, in \u001b[0;36mSeries.count\u001b[1;34m(self, level)\u001b[0m\n\u001b[0;32m   2124\u001b[0m     warnings\u001b[39m.\u001b[39mwarn(\n\u001b[0;32m   2125\u001b[0m         \u001b[39m\"\u001b[39m\u001b[39mUsing the level keyword in DataFrame and Series aggregations is \u001b[39m\u001b[39m\"\u001b[39m\n\u001b[0;32m   2126\u001b[0m         \u001b[39m\"\u001b[39m\u001b[39mdeprecated and will be removed in a future version. Use groupby \u001b[39m\u001b[39m\"\u001b[39m\n\u001b[1;32m   (...)\u001b[0m\n\u001b[0;32m   2129\u001b[0m         stacklevel\u001b[39m=\u001b[39mfind_stack_level(inspect\u001b[39m.\u001b[39mcurrentframe()),\n\u001b[0;32m   2130\u001b[0m     )\n\u001b[0;32m   2131\u001b[0m     \u001b[39mif\u001b[39;00m \u001b[39mnot\u001b[39;00m \u001b[39misinstance\u001b[39m(\u001b[39mself\u001b[39m\u001b[39m.\u001b[39mindex, MultiIndex):\n\u001b[1;32m-> 2132\u001b[0m         \u001b[39mraise\u001b[39;00m \u001b[39mValueError\u001b[39;00m(\u001b[39m\"\u001b[39m\u001b[39mSeries.count level is only valid with a MultiIndex\u001b[39m\u001b[39m\"\u001b[39m)\n\u001b[0;32m   2134\u001b[0m index \u001b[39m=\u001b[39m \u001b[39mself\u001b[39m\u001b[39m.\u001b[39mindex\n\u001b[0;32m   2135\u001b[0m \u001b[39massert\u001b[39;00m \u001b[39misinstance\u001b[39m(index, MultiIndex)  \u001b[39m# for mypy\u001b[39;00m\n",
      "\u001b[1;31mValueError\u001b[0m: Series.count level is only valid with a MultiIndex"
     ]
    }
   ],
   "source": [
    "# percentage with salary >50K\n",
    "higher_education_rich = (len(df[((df[\"education\"] == 'Bachelors') | (df[\"education\"] == 'Masters') | (df[\"education\"] == 'Doctorate')) & (df[\"salary\"] == '>50K')]) / higher_education * 100).__round__(1)\n",
    "\n",
    "#lower_education_rich = ( len(df[(   (df[\"education\"] != 'Bachelors') | \n",
    "#                                    (df[\"education\"] != 'Masters') | \n",
    "#                                    (df[\"education\"] != 'Doctorate')) \n",
    "#                                &   (df[\"salary\"] == '>50K')\n",
    "#                                ]\n",
    "#                             ) / len(df) * 100 \n",
    "#                        ).__round__(1)\n",
    "#\n",
    "\n",
    "lower_education_map = ~df.education.isin(['Bachelors', 'Masters', 'Doctorate'])\n",
    "lower_education_rich_map = lower_education_map & df.salary.isin(['>50K'])\n",
    "ler_percent = df[lower_education_rich_map].shape[0] / df[lower_education_map].shape[0] * 100\n",
    "lower_education_rich = round(ler_percent,1)\n",
    "\n",
    "print(higher_education_rich, lower_education_rich)"
   ]
  },
  {
   "cell_type": "code",
   "execution_count": 115,
   "metadata": {},
   "outputs": [
    {
     "data": {
      "text/plain": [
       "1"
      ]
     },
     "execution_count": 115,
     "metadata": {},
     "output_type": "execute_result"
    }
   ],
   "source": [
    "    # What is the minimum number of hours a person works per week (hours-per-week feature)?\n",
    "min_work_hours = df['hours-per-week'].min()\n",
    "min_work_hours"
   ]
  },
  {
   "cell_type": "code",
   "execution_count": 117,
   "metadata": {},
   "outputs": [
    {
     "name": "stdout",
     "output_type": "stream",
     "text": [
      "2 10.0\n"
     ]
    }
   ],
   "source": [
    "    # What percentage of the people who work the minimum number of hours per week have a salary of >50K?\n",
    "num_min_workers = len( df[ (df['hours-per-week'] == min_work_hours) & (df['salary'] == '>50K') ] )\n",
    "rich_percentage = num_min_workers / len( df[ df['hours-per-week'] == min_work_hours ] ) * 100\n",
    "\n",
    "print(num_min_workers, rich_percentage)"
   ]
  },
  {
   "cell_type": "code",
   "execution_count": 99,
   "metadata": {},
   "outputs": [
    {
     "data": {
      "text/plain": [
       "3.0677729744805466"
      ]
     },
     "execution_count": 99,
     "metadata": {},
     "output_type": "execute_result"
    }
   ],
   "source": [
    "highest_earning_country_percentage = (df[df.salary.isin(['>50K'])].groupby('native-country').size() / df.groupby('native-country').size() * 100).max().round(1)"
   ]
  },
  {
   "cell_type": "code",
   "execution_count": 106,
   "metadata": {},
   "outputs": [
    {
     "data": {
      "text/plain": [
       "('Iran', 41.9)"
      ]
     },
     "execution_count": 106,
     "metadata": {},
     "output_type": "execute_result"
    }
   ],
   "source": [
    "    # What country has the highest percentage of people that earn >50K?\n",
    "highest_earning_country = (df[df.salary.isin(['>50K'])].groupby('native-country').size() / df.groupby('native-country').size() * 100).idxmax()\n",
    "highest_earning_country_percentage = (df[df.salary.isin(['>50K'])].groupby('native-country').size() / df.groupby('native-country').size() * 100).max().round(1)\n",
    "highest_earning_country, highest_earning_country_percentage"
   ]
  },
  {
   "cell_type": "code",
   "execution_count": 87,
   "metadata": {},
   "outputs": [
    {
     "data": {
      "text/plain": [
       "'Prof-specialty'"
      ]
     },
     "execution_count": 87,
     "metadata": {},
     "output_type": "execute_result"
    }
   ],
   "source": [
    "# Identify the most popular occupation for those who earn >50K in India.\n",
    "top_IN_occupation = df[ (df['native-country'] == 'India') & (df['salary'] == '>50K') ].occupation.value_counts().index[0]\n",
    "top_IN_occupation"
   ]
  }
 ],
 "metadata": {
  "kernelspec": {
   "display_name": "Python 3",
   "language": "python",
   "name": "python3"
  },
  "language_info": {
   "codemirror_mode": {
    "name": "ipython",
    "version": 3
   },
   "file_extension": ".py",
   "mimetype": "text/x-python",
   "name": "python",
   "nbconvert_exporter": "python",
   "pygments_lexer": "ipython3",
   "version": "3.10.9"
  },
  "orig_nbformat": 4,
  "vscode": {
   "interpreter": {
    "hash": "5557eb2532e6707a4b1ee2ffbeb3a2a7613dbaac2094006278037313157f71e1"
   }
  }
 },
 "nbformat": 4,
 "nbformat_minor": 2
}
